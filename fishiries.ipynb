{
 "cells": [
  {
   "cell_type": "code",
   "execution_count": 3,
   "id": "cac36a3c-b3b3-4a26-9612-3b42899fc224",
   "metadata": {},
   "outputs": [
    {
     "name": "stdout",
     "output_type": "stream",
     "text": [
      "Project ID:  fishiries-alaska\n"
     ]
    }
   ],
   "source": [
    "PROJECT_ID = \"fishiries-alaska\"\n",
    "if len(PROJECT_ID) < 1: #If don't know your project id\n",
    "    shell_output = !gcloud config list --format 'value(core.project)' 2>/dev/null\n",
    "    PROJECT_ID = shell_output[0]\n",
    "    print(\"Obtained project id\")\n",
    "print(\"Project ID: \", PROJECT_ID)"
   ]
  },
  {
   "cell_type": "code",
   "execution_count": 4,
   "id": "e6f01e49-46bd-4384-b76f-26b08ff4ce0b",
   "metadata": {},
   "outputs": [
    {
     "name": "stdout",
     "output_type": "stream",
     "text": [
      "Region:  europe-west1-b\n"
     ]
    }
   ],
   "source": [
    "REGION = \"europe-west1-b\"\n",
    "print(\"Region: \",REGION)"
   ]
  },
  {
   "cell_type": "code",
   "execution_count": 6,
   "id": "a5c52440-cc3c-4267-998b-ed7da8afec8b",
   "metadata": {},
   "outputs": [
    {
     "name": "stdout",
     "output_type": "stream",
     "text": [
      "Bucket Uri:  gs://fishiries-alaska\n"
     ]
    }
   ],
   "source": [
    "# I don't think we will use buckert storage, but let's assign it's name in case we needed one\n",
    "BUCKET_URI = f\"gs://{PROJECT_ID}\"\n",
    "print(\"Bucket Uri: \",BUCKET_URI)"
   ]
  },
  {
   "cell_type": "code",
   "execution_count": null,
   "id": "02f86749-cda6-4c14-9418-6a0c726b2893",
   "metadata": {},
   "outputs": [],
   "source": [
    "#! gsutil mb -l $REGION -p $PROJECT_ID $BUCKET_URI"
   ]
  },
  {
   "cell_type": "code",
   "execution_count": null,
   "id": "4f2925f8-c421-45b1-8bf4-f5a63a81a87d",
   "metadata": {},
   "outputs": [],
   "source": [
    "#! gsutil ls -al $BUCKET_URI"
   ]
  },
  {
   "cell_type": "code",
   "execution_count": 2,
   "id": "c54c2d1a-7952-48d9-927b-951b37ff0034",
   "metadata": {},
   "outputs": [],
   "source": [
    "import pandas as pd\n",
    "import tensorflow as tf\n",
    "import seaborn as sns\n",
    "from google.cloud import bigquery"
   ]
  },
  {
   "cell_type": "code",
   "execution_count": null,
   "id": "15d721a6",
   "metadata": {},
   "outputs": [],
   "source": [
    "client = bigquery.Client()"
   ]
  },
  {
   "cell_type": "code",
   "execution_count": 7,
   "id": "f41b29a3-bd84-46c9-bc28-860253c2e0a5",
   "metadata": {},
   "outputs": [
    {
     "name": "stderr",
     "output_type": "stream",
     "text": [
      "Query complete after 0.01s: 100%|██████████| 1/1 [00:00<00:00, 505.28query/s]                          \n",
      "Downloading: 100%|██████████| 10/10 [00:00<00:00, 12.59rows/s]\n"
     ]
    },
    {
     "data": {
      "text/html": [
       "<div>\n",
       "<style scoped>\n",
       "    .dataframe tbody tr th:only-of-type {\n",
       "        vertical-align: middle;\n",
       "    }\n",
       "\n",
       "    .dataframe tbody tr th {\n",
       "        vertical-align: top;\n",
       "    }\n",
       "\n",
       "    .dataframe thead th {\n",
       "        text-align: right;\n",
       "    }\n",
       "</style>\n",
       "<table border=\"1\" class=\"dataframe\">\n",
       "  <thead>\n",
       "    <tr style=\"text-align: right;\">\n",
       "      <th></th>\n",
       "      <th>lat400sqkm</th>\n",
       "      <th>lon400sqkm</th>\n",
       "      <th>gear</th>\n",
       "      <th>year</th>\n",
       "      <th>kg</th>\n",
       "      <th>rate</th>\n",
       "      <th>species</th>\n",
       "      <th>sid</th>\n",
       "    </tr>\n",
       "  </thead>\n",
       "  <tbody>\n",
       "    <tr>\n",
       "      <th>0</th>\n",
       "      <td>52.62444</td>\n",
       "      <td>-179.5</td>\n",
       "      <td>NPT</td>\n",
       "      <td>2017</td>\n",
       "      <td>48.10</td>\n",
       "      <td>0.000950</td>\n",
       "      <td>Lumpsucker Unidentified</td>\n",
       "      <td>525</td>\n",
       "    </tr>\n",
       "    <tr>\n",
       "      <th>1</th>\n",
       "      <td>52.78405</td>\n",
       "      <td>-179.5</td>\n",
       "      <td>NPT</td>\n",
       "      <td>1994</td>\n",
       "      <td>15.86</td>\n",
       "      <td>0.000439</td>\n",
       "      <td>Lumpsucker Unidentified</td>\n",
       "      <td>525</td>\n",
       "    </tr>\n",
       "    <tr>\n",
       "      <th>2</th>\n",
       "      <td>52.78405</td>\n",
       "      <td>-179.5</td>\n",
       "      <td>NPT</td>\n",
       "      <td>2009</td>\n",
       "      <td>16.07</td>\n",
       "      <td>0.000294</td>\n",
       "      <td>Lumpsucker Unidentified</td>\n",
       "      <td>525</td>\n",
       "    </tr>\n",
       "    <tr>\n",
       "      <th>3</th>\n",
       "      <td>52.78405</td>\n",
       "      <td>-179.5</td>\n",
       "      <td>NPT</td>\n",
       "      <td>2012</td>\n",
       "      <td>32.15</td>\n",
       "      <td>0.001216</td>\n",
       "      <td>Lumpsucker Unidentified</td>\n",
       "      <td>525</td>\n",
       "    </tr>\n",
       "    <tr>\n",
       "      <th>4</th>\n",
       "      <td>52.62444</td>\n",
       "      <td>-179.5</td>\n",
       "      <td>NPT</td>\n",
       "      <td>2003</td>\n",
       "      <td>3.33</td>\n",
       "      <td>0.000070</td>\n",
       "      <td>Lumpsucker Unidentified</td>\n",
       "      <td>525</td>\n",
       "    </tr>\n",
       "    <tr>\n",
       "      <th>5</th>\n",
       "      <td>52.62444</td>\n",
       "      <td>-179.5</td>\n",
       "      <td>NPT</td>\n",
       "      <td>1994</td>\n",
       "      <td>613.21</td>\n",
       "      <td>0.012081</td>\n",
       "      <td>Lumpsucker Unidentified</td>\n",
       "      <td>525</td>\n",
       "    </tr>\n",
       "    <tr>\n",
       "      <th>6</th>\n",
       "      <td>52.62444</td>\n",
       "      <td>-179.5</td>\n",
       "      <td>NPT</td>\n",
       "      <td>2016</td>\n",
       "      <td>0.64</td>\n",
       "      <td>0.000010</td>\n",
       "      <td>Lumpsucker Unidentified</td>\n",
       "      <td>525</td>\n",
       "    </tr>\n",
       "    <tr>\n",
       "      <th>7</th>\n",
       "      <td>52.62444</td>\n",
       "      <td>-179.5</td>\n",
       "      <td>NPT</td>\n",
       "      <td>2001</td>\n",
       "      <td>31.38</td>\n",
       "      <td>0.000509</td>\n",
       "      <td>Lumpsucker Unidentified</td>\n",
       "      <td>525</td>\n",
       "    </tr>\n",
       "    <tr>\n",
       "      <th>8</th>\n",
       "      <td>52.46540</td>\n",
       "      <td>-179.5</td>\n",
       "      <td>NPT</td>\n",
       "      <td>2006</td>\n",
       "      <td>2.16</td>\n",
       "      <td>0.000361</td>\n",
       "      <td>Lumpsucker Unidentified</td>\n",
       "      <td>525</td>\n",
       "    </tr>\n",
       "    <tr>\n",
       "      <th>9</th>\n",
       "      <td>52.62444</td>\n",
       "      <td>-179.5</td>\n",
       "      <td>NPT</td>\n",
       "      <td>2006</td>\n",
       "      <td>9.01</td>\n",
       "      <td>0.000108</td>\n",
       "      <td>Lumpsucker Unidentified</td>\n",
       "      <td>525</td>\n",
       "    </tr>\n",
       "  </tbody>\n",
       "</table>\n",
       "</div>"
      ],
      "text/plain": [
       "   lat400sqkm  lon400sqkm gear  year      kg      rate  \\\n",
       "0    52.62444      -179.5  NPT  2017   48.10  0.000950   \n",
       "1    52.78405      -179.5  NPT  1994   15.86  0.000439   \n",
       "2    52.78405      -179.5  NPT  2009   16.07  0.000294   \n",
       "3    52.78405      -179.5  NPT  2012   32.15  0.001216   \n",
       "4    52.62444      -179.5  NPT  2003    3.33  0.000070   \n",
       "5    52.62444      -179.5  NPT  1994  613.21  0.012081   \n",
       "6    52.62444      -179.5  NPT  2016    0.64  0.000010   \n",
       "7    52.62444      -179.5  NPT  2001   31.38  0.000509   \n",
       "8    52.46540      -179.5  NPT  2006    2.16  0.000361   \n",
       "9    52.62444      -179.5  NPT  2006    9.01  0.000108   \n",
       "\n",
       "                   species  sid  \n",
       "0  Lumpsucker Unidentified  525  \n",
       "1  Lumpsucker Unidentified  525  \n",
       "2  Lumpsucker Unidentified  525  \n",
       "3  Lumpsucker Unidentified  525  \n",
       "4  Lumpsucker Unidentified  525  \n",
       "5  Lumpsucker Unidentified  525  \n",
       "6  Lumpsucker Unidentified  525  \n",
       "7  Lumpsucker Unidentified  525  \n",
       "8  Lumpsucker Unidentified  525  \n",
       "9  Lumpsucker Unidentified  525  "
      ]
     },
     "execution_count": 7,
     "metadata": {},
     "output_type": "execute_result"
    }
   ],
   "source": [
    "%%bigquery\n",
    "SELECT * FROM \n",
    "`fishiries-alaska.fishiries_alaska_observer.fisheries`\n",
    "LIMIT 10"
   ]
  },
  {
   "cell_type": "code",
   "execution_count": null,
   "id": "6bfee107-06e9-4d49-aaa5-f5784f024d9b",
   "metadata": {},
   "outputs": [],
   "source": [
    "%bigquery_stats fishiries-alaska.fishiries_alaska_observer.fisheries"
   ]
  },
  {
   "cell_type": "code",
   "execution_count": null,
   "id": "8b3acfb8",
   "metadata": {},
   "outputs": [],
   "source": [
    "sql = \"\"\"\n",
    "SELECT * FROM \n",
    "`fishiries-alaska.fishiries_alaska_observer.fisheries`\n",
    "\"\"\""
   ]
  },
  {
   "cell_type": "code",
   "execution_count": null,
   "id": "b604ac45",
   "metadata": {},
   "outputs": [],
   "source": [
    "raw_data = client.query(sql).to_dataframe()"
   ]
  }
 ],
 "metadata": {
  "environment": {
   "kernel": "python3",
   "name": "tf2-gpu.2-9.m100",
   "type": "gcloud",
   "uri": "gcr.io/deeplearning-platform-release/tf2-gpu.2-9:m100"
  },
  "kernelspec": {
   "display_name": "Python 3",
   "language": "python",
   "name": "python3"
  },
  "language_info": {
   "codemirror_mode": {
    "name": "ipython",
    "version": 3
   },
   "file_extension": ".py",
   "mimetype": "text/x-python",
   "name": "python",
   "nbconvert_exporter": "python",
   "pygments_lexer": "ipython3",
   "version": "3.7.12"
  }
 },
 "nbformat": 4,
 "nbformat_minor": 5
}
